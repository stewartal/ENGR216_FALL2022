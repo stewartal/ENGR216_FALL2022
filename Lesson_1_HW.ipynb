{
 "cells": [
  {
   "cell_type": "markdown",
   "id": "5730f0f4",
   "metadata": {},
   "source": [
    "# Lesson 1 Homework"
   ]
  },
  {
   "cell_type": "markdown",
   "id": "629dc63e",
   "metadata": {},
   "source": [
    "### Example #1 - Simple Message"
   ]
  },
  {
   "cell_type": "markdown",
   "id": "44090a3a",
   "metadata": {},
   "source": [
    "#### Assign a message to a variable and then print that message."
   ]
  },
  {
   "cell_type": "code",
   "execution_count": null,
   "id": "b347d59b",
   "metadata": {},
   "outputs": [],
   "source": [
    "# Write your code here\n",
    "\n",
    "\n"
   ]
  },
  {
   "cell_type": "markdown",
   "id": "9476b60f",
   "metadata": {},
   "source": [
    "### Example #2 - Personal Messasge"
   ]
  },
  {
   "cell_type": "markdown",
   "id": "fbc5efdd",
   "metadata": {},
   "source": [
    "#### Use a variable to represent a person's name, and print a message to that person. Your message should be simple, such as, \"Hello Fred, would you like to learn some Python today?\""
   ]
  },
  {
   "cell_type": "code",
   "execution_count": null,
   "id": "74a64525",
   "metadata": {},
   "outputs": [],
   "source": [
    "# Write your code here\n",
    "\n",
    "\n"
   ]
  },
  {
   "cell_type": "markdown",
   "id": "03898a4a",
   "metadata": {},
   "source": [
    "### Example #3 - Name Cases"
   ]
  },
  {
   "cell_type": "markdown",
   "id": "90b5985e",
   "metadata": {},
   "source": [
    "#### Use a variable to represent a persona's name, and then print that person's name in lowercase, uppercase, and title case."
   ]
  },
  {
   "cell_type": "code",
   "execution_count": null,
   "id": "b33d607a",
   "metadata": {},
   "outputs": [],
   "source": [
    "# Write your code here\n",
    "\n",
    "\n",
    "\n"
   ]
  },
  {
   "cell_type": "markdown",
   "id": "0c6008df",
   "metadata": {},
   "source": [
    "### Example #4 - Famous Quote Part 1"
   ]
  },
  {
   "cell_type": "markdown",
   "id": "7c700bbb",
   "metadata": {},
   "source": [
    "#### Find a quote from a famous person you admire. Print the quote and the name of its author. Your output should look something like the following, including the quotation marks: Albert Einstein once said, \"A person who never made a mistake never tried anything new.\""
   ]
  },
  {
   "cell_type": "code",
   "execution_count": null,
   "id": "0b0f4318",
   "metadata": {},
   "outputs": [],
   "source": [
    "# Write your code here\n",
    "\n",
    "\n"
   ]
  },
  {
   "cell_type": "markdown",
   "id": "5acc02d6",
   "metadata": {},
   "source": [
    "### Example #5 - Famous Quote Part 2"
   ]
  },
  {
   "cell_type": "markdown",
   "id": "b6bf09ce",
   "metadata": {},
   "source": [
    "#### Represent the famous person's name using a variable called famous_person. Then compose your message and represent it with a new variable called message. Print your message."
   ]
  },
  {
   "cell_type": "code",
   "execution_count": null,
   "id": "aab9aecf",
   "metadata": {},
   "outputs": [],
   "source": [
    "# Write your code here\n",
    "\n",
    "\n"
   ]
  },
  {
   "cell_type": "markdown",
   "id": "2b085240",
   "metadata": {},
   "source": [
    "### Example #6 - Number Eight\n",
    "#### Write addition, subtraction, multiplication, and division operations that each result in the number 8. Be sure to enclose your operations in print() calls to see the results."
   ]
  },
  {
   "cell_type": "code",
   "execution_count": null,
   "id": "4c65fb3f",
   "metadata": {},
   "outputs": [],
   "source": [
    "# Write your code here\n",
    "\n",
    "\n"
   ]
  },
  {
   "cell_type": "markdown",
   "id": "b5380cb7",
   "metadata": {},
   "source": [
    "### Example #7 - Favorite Number\n",
    "#### Use a variable to represent your favorite number. Then, using that variable, create a message that reveals your favorite number. Print that message."
   ]
  },
  {
   "cell_type": "code",
   "execution_count": null,
   "id": "9bae82ae",
   "metadata": {},
   "outputs": [],
   "source": [
    "# Write your code here\n",
    "\n",
    "\n"
   ]
  }
 ],
 "metadata": {
  "kernelspec": {
   "display_name": "Python 3 (ipykernel)",
   "language": "python",
   "name": "python3"
  },
  "language_info": {
   "codemirror_mode": {
    "name": "ipython",
    "version": 3
   },
   "file_extension": ".py",
   "mimetype": "text/x-python",
   "name": "python",
   "nbconvert_exporter": "python",
   "pygments_lexer": "ipython3",
   "version": "3.9.12"
  }
 },
 "nbformat": 4,
 "nbformat_minor": 5
}
